{
 "cells": [
  {
   "cell_type": "markdown",
   "metadata": {},
   "source": [
    "# DickensAssignmentValidator\n",
    "\n",
    "MUCEP Task 1 (Dr. Pierre-Paul Bitton)\n",
    "\n",
    "Author: Shawon Ibn Kamal\\\n",
    "Email: sikamal@mun.ca"
   ]
  },
  {
   "cell_type": "markdown",
   "metadata": {},
   "source": [
    "### Updates to exisiting program\n",
    "\n",
    "I made a few changes in the existing curator program to work with it efficiently and sorted out a few bugs. Here's the list:\n",
    "\n",
    "- The files getting read from is renamed to \"DataFiles\" from \"Files\".\n",
    "- The output csv files are being stored in a folder named \"OutputFiles\".\n",
    "- Renamed \"NotMatched.csv\" to \"MissingMeta.csv\" in order to avoid confusion with \"MissingFiles.csv\".\n",
    "- Stored the program in git, currently a private repo to me. I think it is a good way to track updates,\\\n",
    "  we can work on it if you are interested\n",
    "- Fixed few minor bugs in DickensAssignment.py program\n"
   ]
  },
  {
   "cell_type": "code",
   "execution_count": 1,
   "metadata": {},
   "outputs": [],
   "source": [
    "import pandas as pd\n",
    "import numpy as np"
   ]
  },
  {
   "cell_type": "markdown",
   "metadata": {},
   "source": [
    "### Run DickensAssignment.py\n",
    "\n"
   ]
  },
  {
   "cell_type": "code",
   "execution_count": 2,
   "metadata": {},
   "outputs": [
    {
     "name": "stdout",
     "output_type": "stream",
     "text": [
      "4865 no. of files\n",
      "4650 match found\n",
      "215 match not found\n",
      "Complete\n"
     ]
    }
   ],
   "source": [
    "exec(open('DickensAssignment.py').read())"
   ]
  },
  {
   "cell_type": "markdown",
   "metadata": {},
   "source": [
    "### Compare OutputFiles with OutputFiles_2020_07_14"
   ]
  },
  {
   "cell_type": "code",
   "execution_count": 3,
   "metadata": {},
   "outputs": [],
   "source": [
    "# Load old outputs\n",
    "df_old_result = pd.read_csv('OutputFiles_2020_07_14/Result.csv', engine='python')\n",
    "df_old_missing_files = pd.read_csv('OutputFiles_2020_07_14/MissingFiles.csv', engine='python')\n",
    "df_old_missing_meta = pd.read_csv('OutputFiles_2020_07_14/MissingMeta.csv', engine='python')\n",
    "\n",
    "# Load new outputs\n",
    "df_new_result = pd.read_csv('OutputFiles/Result.csv', engine='python')\n",
    "df_new_missing_files = pd.read_csv('OutputFiles/MissingFiles.csv', engine='python')\n",
    "df_new_missing_meta = pd.read_csv('OutputFiles/MissingMeta.csv', engine='python')\n",
    "\n",
    "# Load filenames\n",
    "filenames = [name for path, subdirs, files in os.walk(\"DataFiles\")\n",
    "             for name in files]\n",
    "\n",
    "df_data_files = pd.DataFrame({'filename':filenames}).sort_values(by='filename')\n",
    "\n",
    "# Load template\n",
    "df_template = pd.read_csv('template.csv', engine='python')\n",
    "\n",
    "# Sort Result\n",
    "df_old_result = df_old_result.sort_values(by='FileName')\n",
    "df_new_result = df_new_result.sort_values(by='FileName')"
   ]
  },
  {
   "cell_type": "code",
   "execution_count": 4,
   "metadata": {},
   "outputs": [
    {
     "name": "stdout",
     "output_type": "stream",
     "text": [
      "Results are the same\n",
      "MissingFiles have  21  differences\n",
      "NotMatchedFiles have  617  differences\n"
     ]
    }
   ],
   "source": [
    "df_diff_result = pd.concat([df_old_result.dropna(axis=0),df_new_result.dropna(axis=0)], sort=True).drop_duplicates(keep=False)\n",
    "df_diff_missing_files = pd.concat([df_old_missing_files,df_new_missing_files], sort=True).drop_duplicates(keep=False)\n",
    "df_diff_missing_meta = pd.concat([df_old_missing_meta,df_new_missing_meta], sort=True).drop_duplicates(keep=False)\n",
    "\n",
    "if (df_diff_result.shape[0] == 0):\n",
    "    print(\"Results are the same\")\n",
    "else:\n",
    "    print(\"Results have \", df_diff_result.shape[0], \" differences\")\n",
    "    \n",
    "if (df_diff_missing_files.size == 0):\n",
    "    print(\"MissingFiles are the same\")\n",
    "else:\n",
    "    print(\"MissingFiles have \", df_diff_missing_files.shape[0], \" differences\")\n",
    "\n",
    "if (df_new_missing_meta.shape[0] == 0):\n",
    "    print(\"NotMatchedFiles are the same\")\n",
    "else:\n",
    "    print(\"NotMatchedFiles have \", df_diff_missing_meta.shape[0], \" differences\")\n",
    "\n"
   ]
  },
  {
   "cell_type": "markdown",
   "metadata": {},
   "source": [
    "### Check to see if MissingMetaData entries are due to typo"
   ]
  },
  {
   "cell_type": "code",
   "execution_count": 5,
   "metadata": {},
   "outputs": [
    {
     "name": "stdout",
     "output_type": "stream",
     "text": [
      "2\n"
     ]
    }
   ],
   "source": [
    "def includes(fullstring, substrings=[]):\n",
    "    count = 0\n",
    "    for each_substring in substrings:\n",
    "        if fullstring.find(each_substring) != -1:\n",
    "            count += 1\n",
    "    return count\n",
    "\n",
    "# Testing\n",
    "print(includes(\"I like data\", [\"like\", \"data\"]))"
   ]
  },
  {
   "cell_type": "code",
   "execution_count": 6,
   "metadata": {},
   "outputs": [],
   "source": [
    "df_template['key'] = 0\n",
    "df_new_missing_meta['key'] = 0\n",
    "\n",
    "# Cartessian product of two dataframes\n",
    "df_merged_template_and_missing_meta = df_template.merge(df_new_missing_meta, how='outer')"
   ]
  },
  {
   "cell_type": "code",
   "execution_count": 7,
   "metadata": {},
   "outputs": [],
   "source": [
    "df_merged_template_and_missing_meta['similarity'] = df_merged_template_and_missing_meta.apply(lambda row : includes(row['notmatched'], [str(row['catalogueNumber']), row['institutionCode']]), axis=1)"
   ]
  },
  {
   "cell_type": "code",
   "execution_count": 8,
   "metadata": {},
   "outputs": [
    {
     "name": "stdout",
     "output_type": "stream",
     "text": [
      "25\n"
     ]
    },
    {
     "data": {
      "text/html": [
       "<div>\n",
       "<style scoped>\n",
       "    .dataframe tbody tr th:only-of-type {\n",
       "        vertical-align: middle;\n",
       "    }\n",
       "\n",
       "    .dataframe tbody tr th {\n",
       "        vertical-align: top;\n",
       "    }\n",
       "\n",
       "    .dataframe thead th {\n",
       "        text-align: right;\n",
       "    }\n",
       "</style>\n",
       "<table border=\"1\" class=\"dataframe\">\n",
       "  <thead>\n",
       "    <tr style=\"text-align: right;\">\n",
       "      <th></th>\n",
       "      <th>institutionCode</th>\n",
       "      <th>catalogueNumber</th>\n",
       "      <th>notmatched</th>\n",
       "      <th>similarity</th>\n",
       "    </tr>\n",
       "  </thead>\n",
       "  <tbody>\n",
       "    <tr>\n",
       "      <td>6059</td>\n",
       "      <td>CM</td>\n",
       "      <td>72696</td>\n",
       "      <td>AM.U.CM972696.00000005.Master.Transmission</td>\n",
       "      <td>2</td>\n",
       "    </tr>\n",
       "    <tr>\n",
       "      <td>6058</td>\n",
       "      <td>CM</td>\n",
       "      <td>72696</td>\n",
       "      <td>AM.U.CM972696.00000004.Master.Transmission</td>\n",
       "      <td>2</td>\n",
       "    </tr>\n",
       "    <tr>\n",
       "      <td>6057</td>\n",
       "      <td>CM</td>\n",
       "      <td>72696</td>\n",
       "      <td>AM.U.CM972696.00000003.Master.Transmission</td>\n",
       "      <td>2</td>\n",
       "    </tr>\n",
       "    <tr>\n",
       "      <td>6056</td>\n",
       "      <td>CM</td>\n",
       "      <td>72696</td>\n",
       "      <td>AM.U.CM972696.00000002.Master.Transmission</td>\n",
       "      <td>2</td>\n",
       "    </tr>\n",
       "    <tr>\n",
       "      <td>6055</td>\n",
       "      <td>CM</td>\n",
       "      <td>72696</td>\n",
       "      <td>AM.U.CM972696.00000001.Master.Transmission</td>\n",
       "      <td>2</td>\n",
       "    </tr>\n",
       "    <tr>\n",
       "      <td>6054</td>\n",
       "      <td>CM</td>\n",
       "      <td>72696</td>\n",
       "      <td>AM.T.CM972696.00000005.Master.Transmission</td>\n",
       "      <td>2</td>\n",
       "    </tr>\n",
       "    <tr>\n",
       "      <td>6053</td>\n",
       "      <td>CM</td>\n",
       "      <td>72696</td>\n",
       "      <td>AM.T.CM972696.00000004.Master.Transmission</td>\n",
       "      <td>2</td>\n",
       "    </tr>\n",
       "    <tr>\n",
       "      <td>6052</td>\n",
       "      <td>CM</td>\n",
       "      <td>72696</td>\n",
       "      <td>AM.T.CM972696.00000003.Master.Transmission</td>\n",
       "      <td>2</td>\n",
       "    </tr>\n",
       "    <tr>\n",
       "      <td>6051</td>\n",
       "      <td>CM</td>\n",
       "      <td>72696</td>\n",
       "      <td>AM.T.CM972696.00000002.Master.Transmission</td>\n",
       "      <td>2</td>\n",
       "    </tr>\n",
       "    <tr>\n",
       "      <td>6050</td>\n",
       "      <td>CM</td>\n",
       "      <td>72696</td>\n",
       "      <td>AM.T.CM972696.00000001.Master.Transmission</td>\n",
       "      <td>2</td>\n",
       "    </tr>\n",
       "  </tbody>\n",
       "</table>\n",
       "</div>"
      ],
      "text/plain": [
       "     institutionCode  catalogueNumber  \\\n",
       "6059              CM            72696   \n",
       "6058              CM            72696   \n",
       "6057              CM            72696   \n",
       "6056              CM            72696   \n",
       "6055              CM            72696   \n",
       "6054              CM            72696   \n",
       "6053              CM            72696   \n",
       "6052              CM            72696   \n",
       "6051              CM            72696   \n",
       "6050              CM            72696   \n",
       "\n",
       "                                      notmatched  similarity  \n",
       "6059  AM.U.CM972696.00000005.Master.Transmission           2  \n",
       "6058  AM.U.CM972696.00000004.Master.Transmission           2  \n",
       "6057  AM.U.CM972696.00000003.Master.Transmission           2  \n",
       "6056  AM.U.CM972696.00000002.Master.Transmission           2  \n",
       "6055  AM.U.CM972696.00000001.Master.Transmission           2  \n",
       "6054  AM.T.CM972696.00000005.Master.Transmission           2  \n",
       "6053  AM.T.CM972696.00000004.Master.Transmission           2  \n",
       "6052  AM.T.CM972696.00000003.Master.Transmission           2  \n",
       "6051  AM.T.CM972696.00000002.Master.Transmission           2  \n",
       "6050  AM.T.CM972696.00000001.Master.Transmission           2  "
      ]
     },
     "execution_count": 8,
     "metadata": {},
     "output_type": "execute_result"
    }
   ],
   "source": [
    "df_merged_template_and_missing_meta = df_merged_template_and_missing_meta[['institutionCode', 'catalogueNumber', 'notmatched', 'similarity']][df_merged_template_and_missing_meta['similarity'] > 1].sort_values(by='notmatched', ascending=False)\n",
    "print(df_merged_template_and_missing_meta['notmatched'].count())\n",
    "\n",
    "# Export data\n",
    "df_merged_template_and_missing_meta.to_csv('ValidatorExports/MissingMetaSimilar.csv', index=False)\n",
    "\n",
    "# Print first 50 data\n",
    "df_merged_template_and_missing_meta.head(10)"
   ]
  },
  {
   "cell_type": "code",
   "execution_count": 9,
   "metadata": {},
   "outputs": [
    {
     "data": {
      "text/plain": [
       "0     AM.H.MZUSP92643.00000001.csv\n",
       "1     AM.H.MZUSP92643.00000002.csv\n",
       "2     AM.H.MZUSP92643.00000003.csv\n",
       "3     AM.H.MZUSP92643.00000004.csv\n",
       "4     AM.H.MZUSP92643.00000005.csv\n",
       "10    AM.M.MZUSP92643.00000001.csv\n",
       "11    AM.M.MZUSP92643.00000002.csv\n",
       "12    AM.M.MZUSP92643.00000003.csv\n",
       "13    AM.M.MZUSP92643.00000004.csv\n",
       "14    AM.M.MZUSP92643.00000005.csv\n",
       "Name: notmatched, dtype: object"
      ]
     },
     "execution_count": 9,
     "metadata": {},
     "output_type": "execute_result"
    }
   ],
   "source": [
    "# Find no similarities at all\n",
    "df_merged_template_and_missing_meta = df_merged_template_and_missing_meta.drop_duplicates('notmatched')\n",
    "df_missing_meta_nonsimilar = pd.concat([df_new_missing_meta['notmatched'],df_merged_template_and_missing_meta['notmatched']]).drop_duplicates(keep=False)\n",
    "\n",
    "# Export non-similar data\n",
    "df_missing_meta_nonsimilar.to_csv('ValidatorExports/MissingMetaNonSimilar.csv', index=False, header=True)\n",
    "\n",
    "# Print first 50 data\n",
    "df_missing_meta_nonsimilar.head(10)"
   ]
  },
  {
   "cell_type": "markdown",
   "metadata": {},
   "source": [
    "### Find similar files for MissingFiles"
   ]
  },
  {
   "cell_type": "code",
   "execution_count": 10,
   "metadata": {},
   "outputs": [
    {
     "data": {
      "text/html": [
       "<div>\n",
       "<style scoped>\n",
       "    .dataframe tbody tr th:only-of-type {\n",
       "        vertical-align: middle;\n",
       "    }\n",
       "\n",
       "    .dataframe tbody tr th {\n",
       "        vertical-align: top;\n",
       "    }\n",
       "\n",
       "    .dataframe thead th {\n",
       "        text-align: right;\n",
       "    }\n",
       "</style>\n",
       "<table border=\"1\" class=\"dataframe\">\n",
       "  <thead>\n",
       "    <tr style=\"text-align: right;\">\n",
       "      <th></th>\n",
       "      <th>filename</th>\n",
       "      <th>key</th>\n",
       "      <th>FileName</th>\n",
       "      <th>institutionCode</th>\n",
       "      <th>collectionCode</th>\n",
       "      <th>catalogueNumber</th>\n",
       "      <th>class</th>\n",
       "      <th>order</th>\n",
       "      <th>family</th>\n",
       "      <th>genus</th>\n",
       "      <th>...</th>\n",
       "      <th>verbatimElevation</th>\n",
       "      <th>eventDate</th>\n",
       "      <th>measurementDeterminedDate</th>\n",
       "      <th>Patch</th>\n",
       "      <th>LightAngle1</th>\n",
       "      <th>LightAngle2</th>\n",
       "      <th>ProbeAngle1</th>\n",
       "      <th>ProbeAngle2</th>\n",
       "      <th>Replicate</th>\n",
       "      <th>Comments</th>\n",
       "    </tr>\n",
       "  </thead>\n",
       "  <tbody>\n",
       "    <tr>\n",
       "      <td>0</td>\n",
       "      <td>AM.H.AMNH278606.00000001.Master.Transmission</td>\n",
       "      <td>0</td>\n",
       "      <td>NaN</td>\n",
       "      <td>MZUSP</td>\n",
       "      <td>NaN</td>\n",
       "      <td>97287</td>\n",
       "      <td>Aves</td>\n",
       "      <td>Trogoniformes</td>\n",
       "      <td>Trogonidae</td>\n",
       "      <td>Trogon</td>\n",
       "      <td>...</td>\n",
       "      <td>NaN</td>\n",
       "      <td>2013-6-26</td>\n",
       "      <td>NaN</td>\n",
       "      <td>NaN</td>\n",
       "      <td>0</td>\n",
       "      <td>0</td>\n",
       "      <td>0</td>\n",
       "      <td>0</td>\n",
       "      <td>NaN</td>\n",
       "      <td>NaN</td>\n",
       "    </tr>\n",
       "    <tr>\n",
       "      <td>1</td>\n",
       "      <td>AM.H.AMNH278606.00000001.Master.Transmission</td>\n",
       "      <td>0</td>\n",
       "      <td>NaN</td>\n",
       "      <td>MZUSP</td>\n",
       "      <td>NaN</td>\n",
       "      <td>76792</td>\n",
       "      <td>Aves</td>\n",
       "      <td>Trogoniformes</td>\n",
       "      <td>Trogonidae</td>\n",
       "      <td>Trogon</td>\n",
       "      <td>...</td>\n",
       "      <td>NaN</td>\n",
       "      <td>2007-1-20</td>\n",
       "      <td>NaN</td>\n",
       "      <td>NaN</td>\n",
       "      <td>0</td>\n",
       "      <td>0</td>\n",
       "      <td>0</td>\n",
       "      <td>0</td>\n",
       "      <td>NaN</td>\n",
       "      <td>NaN</td>\n",
       "    </tr>\n",
       "    <tr>\n",
       "      <td>2</td>\n",
       "      <td>AM.H.AMNH278606.00000001.Master.Transmission</td>\n",
       "      <td>0</td>\n",
       "      <td>NaN</td>\n",
       "      <td>MZUSP</td>\n",
       "      <td>NaN</td>\n",
       "      <td>86474</td>\n",
       "      <td>Aves</td>\n",
       "      <td>Trogoniformes</td>\n",
       "      <td>Trogonidae</td>\n",
       "      <td>Trogon</td>\n",
       "      <td>...</td>\n",
       "      <td>NaN</td>\n",
       "      <td>2009-7-16</td>\n",
       "      <td>NaN</td>\n",
       "      <td>NaN</td>\n",
       "      <td>0</td>\n",
       "      <td>0</td>\n",
       "      <td>0</td>\n",
       "      <td>0</td>\n",
       "      <td>NaN</td>\n",
       "      <td>NaN</td>\n",
       "    </tr>\n",
       "    <tr>\n",
       "      <td>3</td>\n",
       "      <td>AM.H.AMNH278606.00000001.Master.Transmission</td>\n",
       "      <td>0</td>\n",
       "      <td>NaN</td>\n",
       "      <td>MCZ</td>\n",
       "      <td>NaN</td>\n",
       "      <td>173836</td>\n",
       "      <td>Aves</td>\n",
       "      <td>Trogoniformes</td>\n",
       "      <td>Trogonidae</td>\n",
       "      <td>Trogon</td>\n",
       "      <td>...</td>\n",
       "      <td>NaN</td>\n",
       "      <td>1932-3-4</td>\n",
       "      <td>NaN</td>\n",
       "      <td>NaN</td>\n",
       "      <td>0</td>\n",
       "      <td>0</td>\n",
       "      <td>0</td>\n",
       "      <td>0</td>\n",
       "      <td>NaN</td>\n",
       "      <td>NaN</td>\n",
       "    </tr>\n",
       "    <tr>\n",
       "      <td>4</td>\n",
       "      <td>AM.H.AMNH278606.00000001.Master.Transmission</td>\n",
       "      <td>0</td>\n",
       "      <td>NaN</td>\n",
       "      <td>MZUSP</td>\n",
       "      <td>NaN</td>\n",
       "      <td>15953</td>\n",
       "      <td>Aves</td>\n",
       "      <td>Trogoniformes</td>\n",
       "      <td>Trogonidae</td>\n",
       "      <td>Trogon</td>\n",
       "      <td>...</td>\n",
       "      <td>NaN</td>\n",
       "      <td>1939-3-19</td>\n",
       "      <td>NaN</td>\n",
       "      <td>NaN</td>\n",
       "      <td>0</td>\n",
       "      <td>0</td>\n",
       "      <td>0</td>\n",
       "      <td>0</td>\n",
       "      <td>NaN</td>\n",
       "      <td>NaN</td>\n",
       "    </tr>\n",
       "  </tbody>\n",
       "</table>\n",
       "<p>5 rows × 29 columns</p>\n",
       "</div>"
      ],
      "text/plain": [
       "                                       filename  key  FileName  \\\n",
       "0  AM.H.AMNH278606.00000001.Master.Transmission    0       NaN   \n",
       "1  AM.H.AMNH278606.00000001.Master.Transmission    0       NaN   \n",
       "2  AM.H.AMNH278606.00000001.Master.Transmission    0       NaN   \n",
       "3  AM.H.AMNH278606.00000001.Master.Transmission    0       NaN   \n",
       "4  AM.H.AMNH278606.00000001.Master.Transmission    0       NaN   \n",
       "\n",
       "  institutionCode  collectionCode  catalogueNumber class          order  \\\n",
       "0           MZUSP             NaN            97287  Aves  Trogoniformes   \n",
       "1           MZUSP             NaN            76792  Aves  Trogoniformes   \n",
       "2           MZUSP             NaN            86474  Aves  Trogoniformes   \n",
       "3             MCZ             NaN           173836  Aves  Trogoniformes   \n",
       "4           MZUSP             NaN            15953  Aves  Trogoniformes   \n",
       "\n",
       "       family   genus  ... verbatimElevation  eventDate  \\\n",
       "0  Trogonidae  Trogon  ...               NaN  2013-6-26   \n",
       "1  Trogonidae  Trogon  ...               NaN  2007-1-20   \n",
       "2  Trogonidae  Trogon  ...               NaN  2009-7-16   \n",
       "3  Trogonidae  Trogon  ...               NaN   1932-3-4   \n",
       "4  Trogonidae  Trogon  ...               NaN  1939-3-19   \n",
       "\n",
       "  measurementDeterminedDate Patch LightAngle1 LightAngle2  ProbeAngle1  \\\n",
       "0                       NaN   NaN           0           0            0   \n",
       "1                       NaN   NaN           0           0            0   \n",
       "2                       NaN   NaN           0           0            0   \n",
       "3                       NaN   NaN           0           0            0   \n",
       "4                       NaN   NaN           0           0            0   \n",
       "\n",
       "   ProbeAngle2 Replicate  Comments  \n",
       "0            0       NaN       NaN  \n",
       "1            0       NaN       NaN  \n",
       "2            0       NaN       NaN  \n",
       "3            0       NaN       NaN  \n",
       "4            0       NaN       NaN  \n",
       "\n",
       "[5 rows x 29 columns]"
      ]
     },
     "execution_count": 10,
     "metadata": {},
     "output_type": "execute_result"
    }
   ],
   "source": [
    "df_data_files['key'] = 0\n",
    "df_new_missing_files['key'] = 0\n",
    "\n",
    "# Cartessian product of two dataframes\n",
    "df_merged_data_files_and_missing_files = df_data_files.merge(df_new_missing_files, how='outer')\n",
    "df_merged_data_files_and_missing_files.head()"
   ]
  },
  {
   "cell_type": "code",
   "execution_count": 11,
   "metadata": {
    "scrolled": true
   },
   "outputs": [],
   "source": [
    "# Calculate similarity\n",
    "df_merged_data_files_and_missing_files['similarity'] = df_merged_data_files_and_missing_files.apply(lambda row : includes(row['filename'], [str(row['catalogueNumber'])]), axis=1)"
   ]
  },
  {
   "cell_type": "code",
   "execution_count": 12,
   "metadata": {},
   "outputs": [
    {
     "name": "stdout",
     "output_type": "stream",
     "text": [
      "43\n",
      "Length of similarities 0\n"
     ]
    },
    {
     "data": {
      "text/html": [
       "<div>\n",
       "<style scoped>\n",
       "    .dataframe tbody tr th:only-of-type {\n",
       "        vertical-align: middle;\n",
       "    }\n",
       "\n",
       "    .dataframe tbody tr th {\n",
       "        vertical-align: top;\n",
       "    }\n",
       "\n",
       "    .dataframe thead th {\n",
       "        text-align: right;\n",
       "    }\n",
       "</style>\n",
       "<table border=\"1\" class=\"dataframe\">\n",
       "  <thead>\n",
       "    <tr style=\"text-align: right;\">\n",
       "      <th></th>\n",
       "      <th>index</th>\n",
       "      <th>institutionCode</th>\n",
       "      <th>catalogueNumber</th>\n",
       "      <th>filename</th>\n",
       "      <th>similarity</th>\n",
       "    </tr>\n",
       "  </thead>\n",
       "  <tbody>\n",
       "  </tbody>\n",
       "</table>\n",
       "</div>"
      ],
      "text/plain": [
       "Empty DataFrame\n",
       "Columns: [index, institutionCode, catalogueNumber, filename, similarity]\n",
       "Index: []"
      ]
     },
     "execution_count": 12,
     "metadata": {},
     "output_type": "execute_result"
    }
   ],
   "source": [
    "# Sort\n",
    "df_merged_data_files_and_missing_files = df_merged_data_files_and_missing_files[['institutionCode', 'catalogueNumber', 'filename', 'similarity']][df_merged_data_files_and_missing_files['similarity'] > 0].sort_values(by='institutionCode', ascending=False).reset_index()\n",
    "print(df_new_missing_files.shape[0])\n",
    "print(\"Length of similarities\", df_merged_data_files_and_missing_files.shape[0])\n",
    "\n",
    "# Export data\n",
    "df_merged_data_files_and_missing_files.to_csv('ValidatorExports/MissingFilesSimilarity.csv', index=False)\n",
    "\n",
    "# Print first 50 data\n",
    "df_merged_data_files_and_missing_files.head(10)"
   ]
  },
  {
   "cell_type": "code",
   "execution_count": 13,
   "metadata": {
    "scrolled": true
   },
   "outputs": [
    {
     "name": "stdout",
     "output_type": "stream",
     "text": [
      "There are  43  meta data with no similarities.\n"
     ]
    },
    {
     "data": {
      "text/html": [
       "<div>\n",
       "<style scoped>\n",
       "    .dataframe tbody tr th:only-of-type {\n",
       "        vertical-align: middle;\n",
       "    }\n",
       "\n",
       "    .dataframe tbody tr th {\n",
       "        vertical-align: top;\n",
       "    }\n",
       "\n",
       "    .dataframe thead th {\n",
       "        text-align: right;\n",
       "    }\n",
       "</style>\n",
       "<table border=\"1\" class=\"dataframe\">\n",
       "  <thead>\n",
       "    <tr style=\"text-align: right;\">\n",
       "      <th></th>\n",
       "      <th>institutionCode</th>\n",
       "      <th>catalogueNumber</th>\n",
       "    </tr>\n",
       "  </thead>\n",
       "  <tbody>\n",
       "    <tr>\n",
       "      <td>0</td>\n",
       "      <td>MZUSP</td>\n",
       "      <td>97287</td>\n",
       "    </tr>\n",
       "    <tr>\n",
       "      <td>1</td>\n",
       "      <td>MZUSP</td>\n",
       "      <td>76792</td>\n",
       "    </tr>\n",
       "    <tr>\n",
       "      <td>2</td>\n",
       "      <td>MZUSP</td>\n",
       "      <td>86474</td>\n",
       "    </tr>\n",
       "    <tr>\n",
       "      <td>3</td>\n",
       "      <td>MCZ</td>\n",
       "      <td>173836</td>\n",
       "    </tr>\n",
       "    <tr>\n",
       "      <td>4</td>\n",
       "      <td>MZUSP</td>\n",
       "      <td>15953</td>\n",
       "    </tr>\n",
       "    <tr>\n",
       "      <td>5</td>\n",
       "      <td>MZUSP</td>\n",
       "      <td>44168</td>\n",
       "    </tr>\n",
       "    <tr>\n",
       "      <td>6</td>\n",
       "      <td>MZUSP</td>\n",
       "      <td>44172</td>\n",
       "    </tr>\n",
       "    <tr>\n",
       "      <td>7</td>\n",
       "      <td>MZUSP</td>\n",
       "      <td>44175</td>\n",
       "    </tr>\n",
       "    <tr>\n",
       "      <td>8</td>\n",
       "      <td>MCZ</td>\n",
       "      <td>173842</td>\n",
       "    </tr>\n",
       "    <tr>\n",
       "      <td>9</td>\n",
       "      <td>MCZ</td>\n",
       "      <td>173839</td>\n",
       "    </tr>\n",
       "  </tbody>\n",
       "</table>\n",
       "</div>"
      ],
      "text/plain": [
       "  institutionCode  catalogueNumber\n",
       "0           MZUSP            97287\n",
       "1           MZUSP            76792\n",
       "2           MZUSP            86474\n",
       "3             MCZ           173836\n",
       "4           MZUSP            15953\n",
       "5           MZUSP            44168\n",
       "6           MZUSP            44172\n",
       "7           MZUSP            44175\n",
       "8             MCZ           173842\n",
       "9             MCZ           173839"
      ]
     },
     "execution_count": 13,
     "metadata": {},
     "output_type": "execute_result"
    }
   ],
   "source": [
    "# Find no similarities at all\n",
    "df_merged_data_files_and_missing_files_unique = df_merged_data_files_and_missing_files.drop_duplicates(subset=['institutionCode', 'catalogueNumber'])\n",
    "df_missing_files_nonsimilar = pd.concat([df_new_missing_files[['institutionCode', 'catalogueNumber']],df_merged_data_files_and_missing_files_unique[['institutionCode', 'catalogueNumber']]]).drop_duplicates(keep=False)\n",
    "\n",
    "# Export non-similar data\n",
    "df_missing_files_nonsimilar.to_csv('ValidatorExports/MissingFilesNonSimilar.csv', index=False, header=True)\n",
    "\n",
    "print(\"There are \", df_missing_files_nonsimilar.shape[0], \" meta data with no similarities.\")\n",
    "\n",
    "# Print first 50 data\n",
    "df_missing_files_nonsimilar.head(10)"
   ]
  },
  {
   "cell_type": "code",
   "execution_count": null,
   "metadata": {},
   "outputs": [],
   "source": []
  }
 ],
 "metadata": {
  "kernelspec": {
   "display_name": "Python 3",
   "language": "python",
   "name": "python3"
  },
  "language_info": {
   "codemirror_mode": {
    "name": "ipython",
    "version": 3
   },
   "file_extension": ".py",
   "mimetype": "text/x-python",
   "name": "python",
   "nbconvert_exporter": "python",
   "pygments_lexer": "ipython3",
   "version": "3.7.4"
  }
 },
 "nbformat": 4,
 "nbformat_minor": 2
}
